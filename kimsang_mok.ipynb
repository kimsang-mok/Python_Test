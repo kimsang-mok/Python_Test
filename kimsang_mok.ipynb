{
 "cells": [
  {
   "cell_type": "markdown",
   "id": "3fd25a23",
   "metadata": {},
   "source": [
    "# 3"
   ]
  },
  {
   "cell_type": "code",
   "execution_count": 1,
   "id": "47173711",
   "metadata": {},
   "outputs": [
    {
     "name": "stdout",
     "output_type": "stream",
     "text": [
      "Enter a number: 14\n",
      "Enter another number: 10\n",
      "10 14\n"
     ]
    }
   ],
   "source": [
    "x = input('Enter a number: ')\n",
    "y = input('Enter another number: ')\n",
    "if x < y:\n",
    "    print(x, y)\n",
    "else:\n",
    "    print(y, x)"
   ]
  },
  {
   "cell_type": "markdown",
   "id": "811b4a75",
   "metadata": {},
   "source": [
    "2 minutes"
   ]
  },
  {
   "cell_type": "markdown",
   "id": "d5b27b7e",
   "metadata": {},
   "source": [
    "---"
   ]
  },
  {
   "cell_type": "markdown",
   "id": "163584c6",
   "metadata": {},
   "source": [
    "# 39"
   ]
  },
  {
   "cell_type": "code",
   "execution_count": 2,
   "id": "220e2f01",
   "metadata": {},
   "outputs": [
    {
     "name": "stdout",
     "output_type": "stream",
     "text": [
      "#\n",
      "##\n",
      "###\n",
      "####\n",
      "#####\n"
     ]
    }
   ],
   "source": [
    "print('#')\n",
    "print('##')\n",
    "print('###')\n",
    "print('####')\n",
    "print('#####')"
   ]
  },
  {
   "cell_type": "markdown",
   "id": "b28e8372",
   "metadata": {},
   "source": [
    "1 minute"
   ]
  },
  {
   "cell_type": "markdown",
   "id": "989f324b",
   "metadata": {},
   "source": [
    "---"
   ]
  },
  {
   "cell_type": "markdown",
   "id": "66316569",
   "metadata": {},
   "source": [
    "# 128"
   ]
  },
  {
   "cell_type": "code",
   "execution_count": 46,
   "id": "b50355ed",
   "metadata": {},
   "outputs": [
    {
     "name": "stdout",
     "output_type": "stream",
     "text": [
      "Enter N: 5\n",
      "Enter M: 2\n",
      "Enter K: 2\n",
      "Enter positions X: 1\n",
      "Enter positions X: 5\n",
      "Minimum number of additional street lamps: 0\n"
     ]
    }
   ],
   "source": [
    "N = int(input('Enter N: '))\n",
    "M = int(input('Enter M: '))\n",
    "K = int(input('Enter K: '))\n",
    "\n",
    "lamp_position = []\n",
    "for i in range(M):\n",
    "    m = int(input('Enter positions X: '))\n",
    "    lamp_position.append(m)\n",
    "    \n",
    "# areas that are illuminated\n",
    "lamp_spans = []\n",
    "for i in lamp_position:\n",
    "    span = list(range(i-K, i+K))\n",
    "    lamp_spans.extend(span)\n",
    "    \n",
    "# remove overlaping area\n",
    "unique = []\n",
    "for i in lamp_spans:\n",
    "    if i not in unique:\n",
    "        if i > 0:\n",
    "            unique.append(i)\n",
    "            \n",
    "\n",
    "# find areas that are not illuminated\n",
    "not_illuminated = []\n",
    "interval = []\n",
    "for i in range(1, N):\n",
    "    if i <= unique[-1]:\n",
    "        if i not in unique:\n",
    "            interval.append(i)\n",
    "        else:\n",
    "            if len(interval) > 0:\n",
    "                not_illuminated.append(interval)\n",
    "                interval = []\n",
    "    else:\n",
    "        interval.append(i)\n",
    "\n",
    "not_illuminated.append(interval)\n",
    "\n",
    "# find minimum lamps\n",
    "import math\n",
    "needed_lamp = 0\n",
    "for i in not_illuminated:\n",
    "    lamp_interval = math.ceil(len(i) / ((K + K)))\n",
    "    needed_lamp += lamp_interval\n",
    "    \n",
    "print(f'Minimum number of additional street lamps: {needed_lamp}')"
   ]
  },
  {
   "cell_type": "code",
   "execution_count": 44,
   "id": "bcf6d9b0",
   "metadata": {},
   "outputs": [
    {
     "data": {
      "text/plain": [
       "[2, 3, 4, 5, 9, 10, 11, 12, 15, 16, 17, 18]"
      ]
     },
     "execution_count": 44,
     "metadata": {},
     "output_type": "execute_result"
    }
   ],
   "source": [
    "lamp_spans"
   ]
  },
  {
   "cell_type": "code",
   "execution_count": 43,
   "id": "ab1fb254",
   "metadata": {},
   "outputs": [
    {
     "name": "stdout",
     "output_type": "stream",
     "text": [
      "[1]\n",
      "[6, 7, 8]\n",
      "[13, 14]\n",
      "[19]\n"
     ]
    }
   ],
   "source": [
    "for i in not_illuminated:\n",
    "    print(i)"
   ]
  },
  {
   "cell_type": "markdown",
   "id": "65dbc8e7",
   "metadata": {},
   "source": [
    "1h 30mn"
   ]
  },
  {
   "cell_type": "markdown",
   "id": "dd3201f2",
   "metadata": {},
   "source": [
    "####################################################################################################################"
   ]
  },
  {
   "cell_type": "markdown",
   "id": "a04d9854",
   "metadata": {},
   "source": [
    "### Step by step process"
   ]
  },
  {
   "cell_type": "code",
   "execution_count": 30,
   "id": "34f554d8",
   "metadata": {},
   "outputs": [
    {
     "name": "stdout",
     "output_type": "stream",
     "text": [
      "Enter N: 13\n",
      "Enter M: 2\n",
      "Enter K: 10\n",
      "Enter positions X: 1\n",
      "Enter positions X: 2\n",
      "[1, 2]\n"
     ]
    }
   ],
   "source": [
    "N = int(input('Enter N: '))\n",
    "M = int(input('Enter M: '))\n",
    "K = int(input('Enter K: '))\n",
    "\n",
    "lamp_position = []\n",
    "for i in range(M):\n",
    "    m = int(input('Enter positions X: '))\n",
    "    lamp_position.append(m)\n",
    "print(lamp_position)"
   ]
  },
  {
   "cell_type": "code",
   "execution_count": 32,
   "id": "9d07b074",
   "metadata": {},
   "outputs": [
    {
     "name": "stdout",
     "output_type": "stream",
     "text": [
      "[-9, -8, -7, -6, -5, -4, -3, -2, -1, 0, 1, 2, 3, 4, 5, 6, 7, 8, 9, 10]\n",
      "[-8, -7, -6, -5, -4, -3, -2, -1, 0, 1, 2, 3, 4, 5, 6, 7, 8, 9, 10, 11]\n"
     ]
    }
   ],
   "source": [
    "lamp_spans = []\n",
    "for i in lamp_position:\n",
    "    span = list(range(i-K, i+K))\n",
    "    lamp_spans.extend(span)\n",
    "    print(span)"
   ]
  },
  {
   "cell_type": "code",
   "execution_count": 33,
   "id": "08d43dc5",
   "metadata": {
    "scrolled": true
   },
   "outputs": [
    {
     "data": {
      "text/plain": [
       "[1, 2, 3, 4, 5, 6, 7, 8, 9, 10, 11]"
      ]
     },
     "execution_count": 33,
     "metadata": {},
     "output_type": "execute_result"
    }
   ],
   "source": [
    "unique = []\n",
    "for i in lamp_spans:\n",
    "    if i not in unique:\n",
    "        if i > 0:\n",
    "            unique.append(i)\n",
    "            \n",
    "unique"
   ]
  },
  {
   "cell_type": "code",
   "execution_count": 34,
   "id": "bf90d435",
   "metadata": {},
   "outputs": [],
   "source": [
    "not_illuminite = []\n",
    "interval = []\n",
    "for i in range(1, N+1):\n",
    "    if i <= unique[-1]:\n",
    "        if i not in unique:\n",
    "            interval.append(i)\n",
    "        else:\n",
    "            if len(interval) > 0:\n",
    "                not_illuminite.append(interval)\n",
    "                interval = []\n",
    "    else:\n",
    "        if i < N+1:\n",
    "            interval.append(i)\n",
    "\n",
    "not_illuminite.append(interval)"
   ]
  },
  {
   "cell_type": "code",
   "execution_count": 35,
   "id": "eb59bc1a",
   "metadata": {},
   "outputs": [
    {
     "data": {
      "text/plain": [
       "[[12, 13]]"
      ]
     },
     "execution_count": 35,
     "metadata": {},
     "output_type": "execute_result"
    }
   ],
   "source": [
    "not_illuminite"
   ]
  },
  {
   "cell_type": "code",
   "execution_count": 36,
   "id": "1e3ecac7",
   "metadata": {},
   "outputs": [],
   "source": [
    "import math\n",
    "needed_lamp = 0\n",
    "for i in not_illuminite:\n",
    "    lamp_interval = math.ceil((len(i)) / (K + K))\n",
    "    needed_lamp += lamp_interval"
   ]
  },
  {
   "cell_type": "code",
   "execution_count": 37,
   "id": "e99a70b0",
   "metadata": {},
   "outputs": [
    {
     "data": {
      "text/plain": [
       "1"
      ]
     },
     "execution_count": 37,
     "metadata": {},
     "output_type": "execute_result"
    }
   ],
   "source": [
    "needed_lamp"
   ]
  },
  {
   "cell_type": "markdown",
   "id": "036d90a2",
   "metadata": {},
   "source": [
    "### Testing"
   ]
  },
  {
   "cell_type": "code",
   "execution_count": 27,
   "id": "1f48c4ed",
   "metadata": {},
   "outputs": [
    {
     "name": "stdout",
     "output_type": "stream",
     "text": [
      "Enter N: 15\n",
      "Enter M: 2\n",
      "Enter K: 1\n",
      "Enter positions X: 4\n",
      "Enter positions X: 9\n"
     ]
    },
    {
     "data": {
      "text/plain": [
       "6"
      ]
     },
     "execution_count": 27,
     "metadata": {},
     "output_type": "execute_result"
    }
   ],
   "source": [
    "N = int(input('Enter N: '))\n",
    "M = int(input('Enter M: '))\n",
    "K = int(input('Enter K: '))\n",
    "\n",
    "lamp_position = []\n",
    "for i in range(M):\n",
    "    m = int(input('Enter positions X: '))\n",
    "    lamp_position.append(m)\n",
    "\n",
    "lamp_spans = []\n",
    "for i in lamp_position:\n",
    "    span = list(range(i-K, i+K))\n",
    "    lamp_spans.extend(span)\n",
    "    \n",
    "unique = []\n",
    "for i in lamp_spans:\n",
    "    if i not in unique:\n",
    "        if i > 0:\n",
    "            unique.append(i)\n",
    "            \n",
    "\n",
    "not_illuminite = []\n",
    "interval = []\n",
    "for i in range(1, N):\n",
    "    if i <= unique[-1]:\n",
    "        if i not in unique:\n",
    "            interval.append(i)\n",
    "        else:\n",
    "            if len(interval) > 0:\n",
    "                not_illuminite.append(interval)\n",
    "                interval = []\n",
    "    else:\n",
    "        interval.append(i)\n",
    "\n",
    "not_illuminite.append(interval)\n",
    "\n",
    "import math\n",
    "needed_lamp = 0\n",
    "for i in not_illuminite:\n",
    "    lamp_interval = math.ceil(len(i) / (K + K))\n",
    "    needed_lamp += lamp_interval\n",
    "    \n",
    "needed_lamp"
   ]
  },
  {
   "cell_type": "code",
   "execution_count": 29,
   "id": "fbf92320",
   "metadata": {},
   "outputs": [
    {
     "data": {
      "text/plain": [
       "[[1, 2], [5, 6, 7], [10, 11, 12, 13, 14]]"
      ]
     },
     "execution_count": 29,
     "metadata": {},
     "output_type": "execute_result"
    }
   ],
   "source": [
    "not_illuminite"
   ]
  },
  {
   "cell_type": "markdown",
   "id": "17adfd61",
   "metadata": {},
   "source": [
    "The above code would have 4 not illuminated area:\n",
    "- [1, 2, -] `(3 is exlusive)`\n",
    "- [5, 6, 7, -]\n",
    "- [10, 11, 12, 13, 14, -]\n",
    "\n",
    "We needed 1 + 2 + 3 = 6 more lamps."
   ]
  },
  {
   "cell_type": "code",
   "execution_count": null,
   "id": "b0b6bc04",
   "metadata": {},
   "outputs": [],
   "source": []
  }
 ],
 "metadata": {
  "kernelspec": {
   "display_name": "Python 3 (ipykernel)",
   "language": "python",
   "name": "python3"
  },
  "language_info": {
   "codemirror_mode": {
    "name": "ipython",
    "version": 3
   },
   "file_extension": ".py",
   "mimetype": "text/x-python",
   "name": "python",
   "nbconvert_exporter": "python",
   "pygments_lexer": "ipython3",
   "version": "3.10.9"
  }
 },
 "nbformat": 4,
 "nbformat_minor": 5
}
