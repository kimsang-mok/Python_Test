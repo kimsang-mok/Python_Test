{
 "cells": [
  {
   "cell_type": "code",
   "execution_count": 5,
   "id": "e0fcbf1b",
   "metadata": {},
   "outputs": [
    {
     "name": "stdout",
     "output_type": "stream",
     "text": [
      "Twinkle, twinkle, littel star, \n",
      "  Hello World \n",
      "    Up above the world so high, \n",
      "    Like a diamond in the sky. \n",
      "Twinkle, twinkle, littel star, \n",
      "  How I wonder what you are\n"
     ]
    }
   ],
   "source": [
    "print('Twinkle, twinkle, littel star, \\n' \n",
    "     '  Hello World \\n'\n",
    "     '    Up above the world so high, \\n'\n",
    "     '    Like a diamond in the sky. \\n'\n",
    "     'Twinkle, twinkle, littel star, \\n'\n",
    "     '  How I wonder what you are')"
   ]
  },
  {
   "cell_type": "code",
   "execution_count": 11,
   "id": "ad00ef53",
   "metadata": {},
   "outputs": [],
   "source": [
    "a, b = 3, 2\n",
    "if type(a) == int and type(b) == int:\n",
    "    result = a + b"
   ]
  },
  {
   "cell_type": "code",
   "execution_count": 18,
   "id": "d58c3ad5",
   "metadata": {},
   "outputs": [
    {
     "data": {
      "text/plain": [
       "0"
      ]
     },
     "execution_count": 18,
     "metadata": {},
     "output_type": "execute_result"
    }
   ],
   "source": [
    "num_sum = 0\n",
    "a, b, c = 3, 3, 2\n",
    "if a != b and a != c and b != c:\n",
    "    num_sum = a + b + c\n",
    "num_sum"
   ]
  },
  {
   "cell_type": "code",
   "execution_count": 19,
   "id": "44bd71de",
   "metadata": {},
   "outputs": [
    {
     "name": "stdout",
     "output_type": "stream",
     "text": [
      "49\n"
     ]
    }
   ],
   "source": [
    "x = 4\n",
    "y = 3\n",
    "print((x+y) * (x+y))"
   ]
  },
  {
   "cell_type": "code",
   "execution_count": 24,
   "id": "278ceaa6",
   "metadata": {},
   "outputs": [],
   "source": [
    "x1 = 2\n",
    "x2 = 4\n",
    "y1 = 3\n",
    "y2 = 1\n",
    "\n",
    "x1_y1 = x1 - y1\n",
    "if x1_y1 < 0:\n",
    "    x1_y1 = (-1) * x1_y1 \n",
    "    \n",
    "x2_y2 = x2 - y2 \n",
    "if x2_y2 < 0:\n",
    "    x2_y2 = (-1) * x2_y2"
   ]
  },
  {
   "cell_type": "markdown",
   "id": "31d757ac",
   "metadata": {},
   "source": [
    "## 6"
   ]
  },
  {
   "cell_type": "code",
   "execution_count": 28,
   "id": "24b74a58",
   "metadata": {},
   "outputs": [
    {
     "name": "stdout",
     "output_type": "stream",
     "text": [
      "*-*-*-*-*-*-*-*-*-*-"
     ]
    }
   ],
   "source": [
    "n = 10\n",
    "for i in range(n):\n",
    "    print('*', end='-')"
   ]
  },
  {
   "cell_type": "markdown",
   "id": "acfdc339",
   "metadata": {},
   "source": [
    "## 7"
   ]
  },
  {
   "cell_type": "code",
   "execution_count": 29,
   "id": "0ce9d226",
   "metadata": {},
   "outputs": [
    {
     "data": {
      "text/plain": [
       "5.0"
      ]
     },
     "execution_count": 29,
     "metadata": {},
     "output_type": "execute_result"
    }
   ],
   "source": [
    "a_c = 4\n",
    "b_c = 3\n",
    "a_c = (a_c**2 + b_c**2)**(1/2)\n",
    "a_c"
   ]
  },
  {
   "cell_type": "markdown",
   "id": "852a02fa",
   "metadata": {},
   "source": [
    "## 8"
   ]
  },
  {
   "cell_type": "code",
   "execution_count": 34,
   "id": "2b73391c",
   "metadata": {},
   "outputs": [
    {
     "name": "stdout",
     "output_type": "stream",
     "text": [
      "1.79 Psi\n"
     ]
    }
   ],
   "source": [
    "pressure = 12.35\n",
    "KPA_PSI = 6.89475729\n",
    "psi = pressure / KPA_PSI\n",
    "print(f'{psi:.2f} Psi')"
   ]
  },
  {
   "cell_type": "code",
   "execution_count": 38,
   "id": "a71f325a",
   "metadata": {},
   "outputs": [
    {
     "data": {
      "text/plain": [
       "2.5"
      ]
     },
     "execution_count": 38,
     "metadata": {},
     "output_type": "execute_result"
    }
   ],
   "source": [
    "a = 0; b = 5\n",
    "middle = (a + b) / 2\n",
    "middle"
   ]
  },
  {
   "cell_type": "code",
   "execution_count": 41,
   "id": "a726b49c",
   "metadata": {},
   "outputs": [
    {
     "data": {
      "text/plain": [
       "[1, 2, 3]"
      ]
     },
     "execution_count": 41,
     "metadata": {},
     "output_type": "execute_result"
    }
   ],
   "source": [
    "lst = [3, 1, 2]\n",
    "lst.sort()\n",
    "lst"
   ]
  },
  {
   "cell_type": "code",
   "execution_count": 76,
   "id": "1d18d198",
   "metadata": {},
   "outputs": [],
   "source": [
    "import math\n",
    "?math"
   ]
  },
  {
   "cell_type": "code",
   "execution_count": 63,
   "id": "b4cee473",
   "metadata": {},
   "outputs": [
    {
     "name": "stdout",
     "output_type": "stream",
     "text": [
      "Enter a string of numbers separated by a space: 10 20 30\n"
     ]
    },
    {
     "data": {
      "text/plain": [
       "60"
      ]
     },
     "execution_count": 63,
     "metadata": {},
     "output_type": "execute_result"
    }
   ],
   "source": [
    "num = input('Enter a string of numbers separated by a space: ').split()\n",
    "cum_sum = 0\n",
    "for i in num:\n",
    "    cum_sum += int(i)\n",
    "\n",
    "cum_sum"
   ]
  },
  {
   "cell_type": "markdown",
   "id": "00311eec",
   "metadata": {},
   "source": [
    "## 13"
   ]
  },
  {
   "cell_type": "code",
   "execution_count": 79,
   "id": "517661f3",
   "metadata": {},
   "outputs": [
    {
     "data": {
      "text/plain": [
       "2"
      ]
     },
     "execution_count": 79,
     "metadata": {},
     "output_type": "execute_result"
    }
   ],
   "source": [
    "lst = ['abc', 'xyz', 'aba', '1221']\n",
    "cnt = 0\n",
    "for i in lst:\n",
    "    if len(i) >= 2 and i[0] == i[-1]:\n",
    "        cnt += 1\n",
    "        \n",
    "cnt"
   ]
  },
  {
   "cell_type": "markdown",
   "id": "ce077405",
   "metadata": {},
   "source": [
    "## 14"
   ]
  },
  {
   "cell_type": "code",
   "execution_count": 273,
   "id": "36a1af01",
   "metadata": {},
   "outputs": [],
   "source": [
    "lst = [(2, 5), (1, 2), (4, 4), (2, 3), (2, 1)]\n",
    "sorted_list = []\n",
    "last_item = lst[0][-1]\n",
    "index = 0\n",
    "length = len(lst)\n",
    "smallest_tup = ()\n",
    "copy_list = lst.copy()\n",
    "\n",
    "    index = 0\n",
    "    for j in lst:\n",
    "        if lst[index][1] < j[1]:\n",
    "            smallest_tup = lst[index]\n",
    "        else:\n",
    "            smallest_tup = j\n",
    "        index +1\n",
    "    sorted_list.append(smallest_tup)\n",
    "    lst.remove(smallest_tup)\n",
    "    \n",
    "    \n",
    "    \n",
    "    \n",
    "    \n",
    "    \n",
    "    \n",
    "    \n",
    "    "
   ]
  },
  {
   "cell_type": "code",
   "execution_count": 274,
   "id": "08babdbd",
   "metadata": {},
   "outputs": [
    {
     "data": {
      "text/plain": [
       "[(2, 1), (2, 3), (4, 4), (1, 2), (2, 5)]"
      ]
     },
     "execution_count": 274,
     "metadata": {},
     "output_type": "execute_result"
    }
   ],
   "source": [
    "sorted_list"
   ]
  },
  {
   "cell_type": "code",
   "execution_count": 249,
   "id": "c21a6b88",
   "metadata": {},
   "outputs": [],
   "source": [
    "lst = [1]\n",
    "copy_list = lst.copy()"
   ]
  },
  {
   "cell_type": "code",
   "execution_count": 250,
   "id": "ece0caf9",
   "metadata": {},
   "outputs": [
    {
     "data": {
      "text/plain": [
       "[1]"
      ]
     },
     "execution_count": 250,
     "metadata": {},
     "output_type": "execute_result"
    }
   ],
   "source": [
    "lst.pop()\n",
    "copy_list"
   ]
  },
  {
   "cell_type": "markdown",
   "id": "5af33246",
   "metadata": {},
   "source": [
    "## 15"
   ]
  },
  {
   "cell_type": "code",
   "execution_count": 81,
   "id": "df2f3954",
   "metadata": {},
   "outputs": [
    {
     "data": {
      "text/plain": [
       "'White'"
      ]
     },
     "execution_count": 81,
     "metadata": {},
     "output_type": "execute_result"
    }
   ],
   "source": [
    "import random\n",
    "colors = ['Red', 'Blue', 'Green', 'White', 'Black']\n",
    "random_color = random.choice(colors)\n",
    "random_color"
   ]
  },
  {
   "cell_type": "markdown",
   "id": "db4fc8d4",
   "metadata": {},
   "source": [
    "## 16"
   ]
  },
  {
   "cell_type": "code",
   "execution_count": 82,
   "id": "2f19c5ef",
   "metadata": {},
   "outputs": [
    {
     "data": {
      "text/plain": [
       "[10, 20, 30, 40, 50, 60]"
      ]
     },
     "execution_count": 82,
     "metadata": {},
     "output_type": "execute_result"
    }
   ],
   "source": [
    "my_list = [10, 20, 30, 40, 20, 50, 60, 40]\n",
    "unique = []\n",
    "for i in my_list:\n",
    "    if i not in unique:\n",
    "        unique.append(i)\n",
    "unique"
   ]
  },
  {
   "cell_type": "markdown",
   "id": "78835f04",
   "metadata": {},
   "source": [
    "## 17"
   ]
  },
  {
   "cell_type": "code",
   "execution_count": 123,
   "id": "835ef352",
   "metadata": {},
   "outputs": [
    {
     "data": {
      "text/plain": [
       "[['a', 'd', 'g', 'j', 'm'], ['b', 'e', 'h', 'k', 'n'], ['c', 'f', 'i', 'l']]"
      ]
     },
     "execution_count": 123,
     "metadata": {},
     "output_type": "execute_result"
    }
   ],
   "source": [
    "my_list = ['a', 'b', 'c', 'd', 'e', 'f', 'g', 'h', 'i', 'j', 'k', 'l', 'm', 'n']\n",
    "n = 3\n",
    "new_list = []\n",
    "\n",
    "for i in range(n):\n",
    "    new_list.append(my_list[i::n])\n",
    "new_list"
   ]
  },
  {
   "cell_type": "code",
   "execution_count": 120,
   "id": "82c2ce53",
   "metadata": {},
   "outputs": [
    {
     "data": {
      "text/plain": [
       "5"
      ]
     },
     "execution_count": 120,
     "metadata": {},
     "output_type": "execute_result"
    }
   ],
   "source": [
    "split_interval"
   ]
  },
  {
   "cell_type": "code",
   "execution_count": 121,
   "id": "3bf35960",
   "metadata": {},
   "outputs": [
    {
     "name": "stdout",
     "output_type": "stream",
     "text": [
      "['a', 'b', 'c', 'd', 'e']\n",
      "['f', 'g', 'h', 'i', 'j']\n",
      "['k', 'l', 'm', 'n']\n"
     ]
    }
   ],
   "source": [
    "new_list = []\n",
    "start_index = 0\n",
    "for i in range(n):\n",
    "    if i < n - 1:\n",
    "        print(my_list[start_index:split_interval+start_index])\n",
    "    else:\n",
    "        print(my_list[start_index:])\n",
    "    \n",
    "    start_index += split_interval"
   ]
  },
  {
   "cell_type": "markdown",
   "id": "44db76d6",
   "metadata": {},
   "source": [
    "## 18"
   ]
  },
  {
   "cell_type": "code",
   "execution_count": 140,
   "id": "29c11991",
   "metadata": {},
   "outputs": [
    {
     "data": {
      "text/plain": [
       "'red-green-orange'"
      ]
     },
     "execution_count": 140,
     "metadata": {},
     "output_type": "execute_result"
    }
   ],
   "source": [
    "color_list = ['red', 'green', 'orange']\n",
    "'-'.join(color_list)"
   ]
  },
  {
   "cell_type": "markdown",
   "id": "bb8045e8",
   "metadata": {},
   "source": [
    "## 19"
   ]
  },
  {
   "cell_type": "code",
   "execution_count": 141,
   "id": "1e2cbcf6",
   "metadata": {},
   "outputs": [
    {
     "data": {
      "text/plain": [
       "['emp1', 'emp2', 'emp3', 'emp4']"
      ]
     },
     "execution_count": 141,
     "metadata": {},
     "output_type": "execute_result"
    }
   ],
   "source": [
    "lst = [1, 2, 3, 4]\n",
    "string = 'emp'\n",
    "new_list = []\n",
    "for i in lst:\n",
    "    new_list.append(string+str(i))\n",
    "    \n",
    "new_list"
   ]
  },
  {
   "cell_type": "markdown",
   "id": "2558f265",
   "metadata": {},
   "source": [
    "## 20"
   ]
  },
  {
   "cell_type": "code",
   "execution_count": 144,
   "id": "823e420f",
   "metadata": {},
   "outputs": [
    {
     "name": "stdout",
     "output_type": "stream",
     "text": [
      "w\n"
     ]
    },
    {
     "data": {
      "text/plain": [
       "[]"
      ]
     },
     "execution_count": 144,
     "metadata": {},
     "output_type": "execute_result"
    }
   ],
   "source": [
    "lst = ['abcd', 'abc', 'bcd', 'bkie', 'cder', 'cdsw', 'sdfsd', 'dagfa', 'acjd']\n",
    "char = input()\n",
    "new_list = []\n",
    "for i in lst:\n",
    "    if i[0] == char:\n",
    "        new_list.append(i)\n",
    "        \n",
    "new_list"
   ]
  },
  {
   "cell_type": "code",
   "execution_count": null,
   "id": "40457112",
   "metadata": {},
   "outputs": [],
   "source": []
  }
 ],
 "metadata": {
  "kernelspec": {
   "display_name": "Python 3 (ipykernel)",
   "language": "python",
   "name": "python3"
  },
  "language_info": {
   "codemirror_mode": {
    "name": "ipython",
    "version": 3
   },
   "file_extension": ".py",
   "mimetype": "text/x-python",
   "name": "python",
   "nbconvert_exporter": "python",
   "pygments_lexer": "ipython3",
   "version": "3.10.9"
  }
 },
 "nbformat": 4,
 "nbformat_minor": 5
}
